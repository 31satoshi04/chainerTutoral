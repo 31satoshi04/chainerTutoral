{
  "nbformat": 4,
  "nbformat_minor": 0,
  "metadata": {
    "colab": {
      "name": "basechainer.ipynb",
      "provenance": [],
      "collapsed_sections": [],
      "include_colab_link": true
    },
    "kernelspec": {
      "name": "python3",
      "display_name": "Python 3"
    },
    "accelerator": "GPU"
  },
  "cells": [
    {
      "cell_type": "markdown",
      "metadata": {
        "id": "view-in-github",
        "colab_type": "text"
      },
      "source": [
        "<a href=\"https://colab.research.google.com/github/31satoshi04/chainerTutoral/blob/master/basechainer.ipynb\" target=\"_parent\"><img src=\"https://colab.research.google.com/assets/colab-badge.svg\" alt=\"Open In Colab\"/></a>"
      ]
    },
    {
      "cell_type": "code",
      "metadata": {
        "id": "3wtWYd-_PCXI",
        "colab_type": "code",
        "outputId": "bda6eba7-4adf-493a-8a9d-4599071c2e46",
        "colab": {
          "base_uri": "https://localhost:8080/",
          "height": 51
        }
      },
      "source": [
        "import chainer\n",
        "from sklearn.datasets import load_iris\n",
        "x, t = load_iris(return_X_y=True)\n",
        "\n",
        "x = x.astype('float32')\n",
        "t = t.astype('int32')\n",
        "\n",
        "from sklearn.model_selection import train_test_split\n",
        "\n",
        "#  テストデータセット\n",
        "x_train_val, x_test, t_train_val, t_test = train_test_split(x, t, test_size=0.3, random_state=0)\n",
        "# 訓練・検証データセット\n",
        "x_train, x_val, t_train, t_val = train_test_split(x_train_val,t_train_val,test_size=0.3, random_state=0)\n",
        "\n",
        "\n",
        "print(\"x:\",x.shape)\n",
        "print(\"t:\",t.shape)\n"
      ],
      "execution_count": 0,
      "outputs": [
        {
          "output_type": "stream",
          "text": [
            "x: (150, 4)\n",
            "t: (150,)\n"
          ],
          "name": "stdout"
        }
      ]
    },
    {
      "cell_type": "code",
      "metadata": {
        "id": "i-QEgAcyQTQb",
        "colab_type": "code",
        "outputId": "b9cb0f27-2111-4565-9b87-2d17a1dca9c4",
        "colab": {
          "base_uri": "https://localhost:8080/",
          "height": 1000
        }
      },
      "source": [
        "import chainer.links as L\n",
        "import chainer.functions as F\n",
        "%matplotlib inline\n",
        "import matplotlib.pyplot as plt\n",
        "\n",
        "l = L.Linear(3,2)\n",
        "\n",
        "from chainer import Sequential\n",
        "\n",
        "# netとしてインスタンス化\n",
        "n_input=4\n",
        "n_hidden=10\n",
        "n_output = 3\n",
        "\n",
        "net = Sequential(\n",
        "    L.Linear(n_input, n_hidden), F.relu,\n",
        "    L.Linear(n_hidden, n_hidden), F.relu,\n",
        "    L.Linear(n_hidden, n_output)\n",
        ")\n",
        "\n",
        "# 購買法\n",
        "optimizer = chainer.optimizers.SGD(lr=0.01)\n",
        "optimizer.setup(net)\n",
        "\n",
        "# training\n",
        "n_epoch = 30\n",
        "n_batchsize = 16\n",
        "\n",
        "import numpy as np\n",
        "\n",
        "iteration =0\n",
        "# ログの保存用\n",
        "results_train = {\n",
        "    'loss':[],\n",
        "    'accuracy':[]\n",
        "}\n",
        "results_valid = {\n",
        "    'loss':[],\n",
        "    'accuracy':[]\n",
        "}\n",
        "\n",
        "\n",
        "for epoch in range(n_epoch):\n",
        "\n",
        "  # dataset順番を取得\n",
        "  order = np.random.permutation(range(len(x_train)))\n",
        "  # 各バッチ毎の目的関数の出力と分類制度の保存用\n",
        "  loss_list = []\n",
        "  accuracy_list = []\n",
        "\n",
        "  for i in range(0,len(order),n_batchsize):\n",
        "    # バッチを準備\n",
        "    index = order[i:i+n_batchsize]\n",
        "    x_train_batch = x_train[index,:]\n",
        "    t_train_batch = t_train[index]\n",
        "\n",
        "    # 予測値の出力\n",
        "    y_train_batch = net(x_train_batch)\n",
        "\n",
        "    #　目的関数\n",
        "    loss_train_batch = F.softmax_cross_entropy(y_train_batch, t_train_batch)\n",
        "    accuracy_train_batch = F.accuracy(y_train_batch, t_train_batch)\n",
        "\n",
        "    loss_list.append(loss_train_batch.array)\n",
        "    accuracy_list.append(accuracy_train_batch.array)\n",
        "\n",
        "    # 購買のリセット\n",
        "    net.cleargrads()\n",
        "    # 逆伝番\n",
        "    loss_train_batch.backward()\n",
        "\n",
        "    #パラメータ\n",
        "    optimizer.update()\n",
        "\n",
        "    #カウントアップ\n",
        "    iteration += 1\n",
        "\n",
        "  #訓練データに対する目的関数の出力\n",
        "  loss_train = np.mean(loss_list)\n",
        "  accuracy_train = np.mean(accuracy_list)\n",
        "\n",
        "  #予測値を出力\n",
        "  with chainer.using_config('train',False),chainer.using_config('enable_backprop',False):\n",
        "    # y_val = net(x_val)\n",
        "    y_test = net(x_test)\n",
        "  \n",
        "  #分類練度を計算\n",
        "  # loss_val = F.softmax_cross_entropy(y_val,t_val)\n",
        "  # accuracy_val = F.accuracy(y_val,t_val)\n",
        "  accuracy_test = F.accuracy(y_test, t_test)\n",
        "  accuracy_test.array\n",
        "\n",
        "  # 結果の表示\n",
        "  print('epoch: {}, iteration: {}, loss (train): {:.4f}, loss (valid): {:.4f}'.format(\n",
        "  epoch, iteration, loss_train, loss_val.array))\n",
        "\n",
        "  # ログを保存\n",
        "  results_train['loss'] .append(loss_train)\n",
        "  results_train['accuracy'] .append(accuracy_train)\n",
        "  results_valid['loss'].append(loss_val.array)\n",
        "  results_valid['accuracy'].append(accuracy_val.array)\n",
        "\n",
        "plt.plot(results_train['loss'],label='train')\n",
        "plt.plot(results_valid['loss'],label='valid')\n",
        "plt.legend()\n",
        "plt.show()\n",
        "\n",
        "# 分類精度 (accuracy)\n",
        "plt.plot(results_train['accuracy'], label='train')  # label で凡例の設定\n",
        "plt.plot(results_valid['accuracy'], label='valid')  # label で凡例の設定\n",
        "plt.legend()  # 凡例の表示\n",
        "\n",
        "chainer.serializers.save_npz('my_iris.net', net)"
      ],
      "execution_count": 0,
      "outputs": [
        {
          "output_type": "stream",
          "text": [
            "epoch: 0, iteration: 5, loss (train): 1.8947, loss (valid): 0.4534\n",
            "epoch: 1, iteration: 10, loss (train): 1.1368, loss (valid): 0.4534\n",
            "epoch: 2, iteration: 15, loss (train): 1.0963, loss (valid): 0.4534\n",
            "epoch: 3, iteration: 20, loss (train): 1.0852, loss (valid): 0.4534\n",
            "epoch: 4, iteration: 25, loss (train): 1.0068, loss (valid): 0.4534\n",
            "epoch: 5, iteration: 30, loss (train): 0.9679, loss (valid): 0.4534\n",
            "epoch: 6, iteration: 35, loss (train): 0.9521, loss (valid): 0.4534\n",
            "epoch: 7, iteration: 40, loss (train): 0.9198, loss (valid): 0.4534\n",
            "epoch: 8, iteration: 45, loss (train): 0.9264, loss (valid): 0.4534\n",
            "epoch: 9, iteration: 50, loss (train): 0.9077, loss (valid): 0.4534\n",
            "epoch: 10, iteration: 55, loss (train): 0.8955, loss (valid): 0.4534\n",
            "epoch: 11, iteration: 60, loss (train): 0.8918, loss (valid): 0.4534\n",
            "epoch: 12, iteration: 65, loss (train): 0.8751, loss (valid): 0.4534\n",
            "epoch: 13, iteration: 70, loss (train): 0.8598, loss (valid): 0.4534\n",
            "epoch: 14, iteration: 75, loss (train): 0.8592, loss (valid): 0.4534\n",
            "epoch: 15, iteration: 80, loss (train): 0.8347, loss (valid): 0.4534\n",
            "epoch: 16, iteration: 85, loss (train): 0.8182, loss (valid): 0.4534\n",
            "epoch: 17, iteration: 90, loss (train): 0.8102, loss (valid): 0.4534\n",
            "epoch: 18, iteration: 95, loss (train): 0.7911, loss (valid): 0.4534\n",
            "epoch: 19, iteration: 100, loss (train): 0.7670, loss (valid): 0.4534\n",
            "epoch: 20, iteration: 105, loss (train): 0.7413, loss (valid): 0.4534\n",
            "epoch: 21, iteration: 110, loss (train): 0.7611, loss (valid): 0.4534\n",
            "epoch: 22, iteration: 115, loss (train): 0.7280, loss (valid): 0.4534\n",
            "epoch: 23, iteration: 120, loss (train): 0.7168, loss (valid): 0.4534\n",
            "epoch: 24, iteration: 125, loss (train): 0.7084, loss (valid): 0.4534\n",
            "epoch: 25, iteration: 130, loss (train): 0.6907, loss (valid): 0.4534\n",
            "epoch: 26, iteration: 135, loss (train): 0.6764, loss (valid): 0.4534\n",
            "epoch: 27, iteration: 140, loss (train): 0.6723, loss (valid): 0.4534\n",
            "epoch: 28, iteration: 145, loss (train): 0.6925, loss (valid): 0.4534\n",
            "epoch: 29, iteration: 150, loss (train): 0.6567, loss (valid): 0.4534\n"
          ],
          "name": "stdout"
        },
        {
          "output_type": "display_data",
          "data": {
            "image/png": "[encoded data removed]",
            "text/plain": [
              "<Figure size 432x288 with 1 Axes>"
            ]
          },
          "metadata": {
            "tags": []
          }
        },
        {
          "output_type": "display_data",
          "data": {
            "image/png": "[encoded data removed]",
            "text/plain": [
              "<Figure size 432x288 with 1 Axes>"
            ]
          },
          "metadata": {
            "tags": []
          }
        }
      ]
    },
    {
      "cell_type": "code",
      "metadata": {
        "id": "uOocJPQxl5pw",
        "colab_type": "code",
        "outputId": "9b08c219-2b2c-48a0-dd08-02555e8d0cf0",
        "colab": {
          "base_uri": "https://localhost:8080/",
          "height": 34
        }
      },
      "source": [
        "!ls"
      ],
      "execution_count": 0,
      "outputs": [
        {
          "output_type": "stream",
          "text": [
            "my_iris.net  sample_data\n"
          ],
          "name": "stdout"
        }
      ]
    },
    {
      "cell_type": "code",
      "metadata": {
        "id": "FPGTyjqxzvrh",
        "colab_type": "code",
        "colab": {}
      },
      "source": [
        "loaded_net = Sequential(\n",
        "    L.Linear(n_input, n_hidden), F.relu,\n",
        "    L.Linear(n_hidden, n_hidden), F.relu,\n",
        "    L.Linear(n_hidden, n_output)\n",
        ")"
      ],
      "execution_count": 0,
      "outputs": []
    }
  ]
}